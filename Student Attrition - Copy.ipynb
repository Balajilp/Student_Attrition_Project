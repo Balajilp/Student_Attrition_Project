{
 "cells": [
  {
   "cell_type": "markdown",
   "id": "d073ca96",
   "metadata": {},
   "source": [
    "# TASK-5 : Building a Classification Model"
   ]
  },
  {
   "cell_type": "raw",
   "id": "11bb4855",
   "metadata": {},
   "source": [
    "Given the dataset of Clearwater State University's student information, a column contains data about student's early attrition is taken as target and an end-to-end machine learning model is built using 'Random Forest Classification' algorithm which has accuracy of 89%."
   ]
  },
  {
   "cell_type": "markdown",
   "id": "4aa32a22",
   "metadata": {},
   "source": [
    "### Data Acquisition"
   ]
  },
  {
   "cell_type": "code",
   "execution_count": 1,
   "id": "8f7df4b8",
   "metadata": {},
   "outputs": [],
   "source": [
    "# import modules\n",
    "import os \n",
    "import pandas as pd # for dataframes\n",
    "import numpy as np\n",
    "import matplotlib.pyplot as plt # for plotting a graph\n",
    "import seaborn as sns # for plotting a graph"
   ]
  },
  {
   "cell_type": "code",
   "execution_count": 2,
   "id": "a852f2bd",
   "metadata": {},
   "outputs": [
    {
     "data": {
      "text/html": [
       "<div>\n",
       "<style scoped>\n",
       "    .dataframe tbody tr th:only-of-type {\n",
       "        vertical-align: middle;\n",
       "    }\n",
       "\n",
       "    .dataframe tbody tr th {\n",
       "        vertical-align: top;\n",
       "    }\n",
       "\n",
       "    .dataframe thead th {\n",
       "        text-align: right;\n",
       "    }\n",
       "</style>\n",
       "<table border=\"1\" class=\"dataframe\">\n",
       "  <thead>\n",
       "    <tr style=\"text-align: right;\">\n",
       "      <th></th>\n",
       "      <th>STUDENT IDENTIFIER</th>\n",
       "      <th>STDNT_AGE</th>\n",
       "      <th>STDNT_GENDER</th>\n",
       "      <th>STDNT_BACKGROUND</th>\n",
       "      <th>IN_STATE_FLAG</th>\n",
       "      <th>INTERNATIONAL_STS</th>\n",
       "      <th>STDNT_MAJOR</th>\n",
       "      <th>STDNT_MINOR</th>\n",
       "      <th>STDNT_TEST_ENTRANCE1</th>\n",
       "      <th>STDNT_TEST_ENTRANCE2</th>\n",
       "      <th>...</th>\n",
       "      <th>DEGREE_GROUP_CD</th>\n",
       "      <th>DEGREE_GROUP_DESC</th>\n",
       "      <th>FIRST_TERM_ATTEMPT_HRS</th>\n",
       "      <th>FIRST_TERM_EARNED_HRS</th>\n",
       "      <th>SECOND_TERM_ATTEMPT_HRS</th>\n",
       "      <th>SECOND_TERM_EARNED_HRS</th>\n",
       "      <th>GROSS_FIN_NEED</th>\n",
       "      <th>COST_OF_ATTEND</th>\n",
       "      <th>EST_FAM_CONTRIBUTION</th>\n",
       "      <th>UNMET_NEED</th>\n",
       "    </tr>\n",
       "  </thead>\n",
       "  <tbody>\n",
       "    <tr>\n",
       "      <th>0</th>\n",
       "      <td>7808615</td>\n",
       "      <td>18</td>\n",
       "      <td>F</td>\n",
       "      <td>BGD 1</td>\n",
       "      <td>Y</td>\n",
       "      <td>N</td>\n",
       "      <td>Undeclared</td>\n",
       "      <td>N</td>\n",
       "      <td>NaN</td>\n",
       "      <td>1150.0</td>\n",
       "      <td>...</td>\n",
       "      <td>B</td>\n",
       "      <td>Bachelors</td>\n",
       "      <td>16</td>\n",
       "      <td>16</td>\n",
       "      <td>14.0</td>\n",
       "      <td>14.0</td>\n",
       "      <td>0</td>\n",
       "      <td>0</td>\n",
       "      <td>0</td>\n",
       "      <td>0.0</td>\n",
       "    </tr>\n",
       "    <tr>\n",
       "      <th>1</th>\n",
       "      <td>7830063</td>\n",
       "      <td>19</td>\n",
       "      <td>F</td>\n",
       "      <td>BGD 1</td>\n",
       "      <td>N</td>\n",
       "      <td>N</td>\n",
       "      <td>Undeclared</td>\n",
       "      <td>N</td>\n",
       "      <td>26.0</td>\n",
       "      <td>NaN</td>\n",
       "      <td>...</td>\n",
       "      <td>B</td>\n",
       "      <td>Bachelors</td>\n",
       "      <td>18</td>\n",
       "      <td>18</td>\n",
       "      <td>18.0</td>\n",
       "      <td>18.0</td>\n",
       "      <td>570000</td>\n",
       "      <td>1355760</td>\n",
       "      <td>785760</td>\n",
       "      <td>459300.0</td>\n",
       "    </tr>\n",
       "    <tr>\n",
       "      <th>2</th>\n",
       "      <td>7847538</td>\n",
       "      <td>18</td>\n",
       "      <td>M</td>\n",
       "      <td>BGD 1</td>\n",
       "      <td>Y</td>\n",
       "      <td>N</td>\n",
       "      <td>Mathematics</td>\n",
       "      <td>N</td>\n",
       "      <td>NaN</td>\n",
       "      <td>1020.0</td>\n",
       "      <td>...</td>\n",
       "      <td>B</td>\n",
       "      <td>Bachelors</td>\n",
       "      <td>15</td>\n",
       "      <td>15</td>\n",
       "      <td>14.0</td>\n",
       "      <td>14.0</td>\n",
       "      <td>0</td>\n",
       "      <td>0</td>\n",
       "      <td>0</td>\n",
       "      <td>0.0</td>\n",
       "    </tr>\n",
       "    <tr>\n",
       "      <th>3</th>\n",
       "      <td>8006429</td>\n",
       "      <td>18</td>\n",
       "      <td>M</td>\n",
       "      <td>BGD 1</td>\n",
       "      <td>Y</td>\n",
       "      <td>N</td>\n",
       "      <td>Undeclared</td>\n",
       "      <td>N</td>\n",
       "      <td>NaN</td>\n",
       "      <td>1210.0</td>\n",
       "      <td>...</td>\n",
       "      <td>B</td>\n",
       "      <td>Bachelors</td>\n",
       "      <td>13</td>\n",
       "      <td>13</td>\n",
       "      <td>14.0</td>\n",
       "      <td>14.0</td>\n",
       "      <td>0</td>\n",
       "      <td>0</td>\n",
       "      <td>0</td>\n",
       "      <td>0.0</td>\n",
       "    </tr>\n",
       "    <tr>\n",
       "      <th>4</th>\n",
       "      <td>7962680</td>\n",
       "      <td>18</td>\n",
       "      <td>F</td>\n",
       "      <td>BGD 1</td>\n",
       "      <td>Y</td>\n",
       "      <td>N</td>\n",
       "      <td>Art</td>\n",
       "      <td>N</td>\n",
       "      <td>NaN</td>\n",
       "      <td>1200.0</td>\n",
       "      <td>...</td>\n",
       "      <td>B</td>\n",
       "      <td>Bachelors</td>\n",
       "      <td>12</td>\n",
       "      <td>12</td>\n",
       "      <td>12.0</td>\n",
       "      <td>12.0</td>\n",
       "      <td>835920</td>\n",
       "      <td>1355760</td>\n",
       "      <td>519840</td>\n",
       "      <td>278340.0</td>\n",
       "    </tr>\n",
       "    <tr>\n",
       "      <th>...</th>\n",
       "      <td>...</td>\n",
       "      <td>...</td>\n",
       "      <td>...</td>\n",
       "      <td>...</td>\n",
       "      <td>...</td>\n",
       "      <td>...</td>\n",
       "      <td>...</td>\n",
       "      <td>...</td>\n",
       "      <td>...</td>\n",
       "      <td>...</td>\n",
       "      <td>...</td>\n",
       "      <td>...</td>\n",
       "      <td>...</td>\n",
       "      <td>...</td>\n",
       "      <td>...</td>\n",
       "      <td>...</td>\n",
       "      <td>...</td>\n",
       "      <td>...</td>\n",
       "      <td>...</td>\n",
       "      <td>...</td>\n",
       "      <td>...</td>\n",
       "    </tr>\n",
       "    <tr>\n",
       "      <th>3395</th>\n",
       "      <td>7948112</td>\n",
       "      <td>18</td>\n",
       "      <td>F</td>\n",
       "      <td>BGD 4</td>\n",
       "      <td>N</td>\n",
       "      <td>N</td>\n",
       "      <td>Music Performance</td>\n",
       "      <td>N</td>\n",
       "      <td>NaN</td>\n",
       "      <td>800.0</td>\n",
       "      <td>...</td>\n",
       "      <td>B</td>\n",
       "      <td>Bachelors</td>\n",
       "      <td>18</td>\n",
       "      <td>18</td>\n",
       "      <td>16.0</td>\n",
       "      <td>13.0</td>\n",
       "      <td>0</td>\n",
       "      <td>0</td>\n",
       "      <td>0</td>\n",
       "      <td>0.0</td>\n",
       "    </tr>\n",
       "    <tr>\n",
       "      <th>3396</th>\n",
       "      <td>8023055</td>\n",
       "      <td>18</td>\n",
       "      <td>F</td>\n",
       "      <td>BGD 1</td>\n",
       "      <td>Y</td>\n",
       "      <td>N</td>\n",
       "      <td>Biology</td>\n",
       "      <td>N</td>\n",
       "      <td>20.0</td>\n",
       "      <td>NaN</td>\n",
       "      <td>...</td>\n",
       "      <td>B</td>\n",
       "      <td>Bachelors</td>\n",
       "      <td>13</td>\n",
       "      <td>9</td>\n",
       "      <td>NaN</td>\n",
       "      <td>NaN</td>\n",
       "      <td>0</td>\n",
       "      <td>0</td>\n",
       "      <td>0</td>\n",
       "      <td>0.0</td>\n",
       "    </tr>\n",
       "    <tr>\n",
       "      <th>3397</th>\n",
       "      <td>7926915</td>\n",
       "      <td>18</td>\n",
       "      <td>F</td>\n",
       "      <td>BGD 4</td>\n",
       "      <td>Y</td>\n",
       "      <td>N</td>\n",
       "      <td>Biology</td>\n",
       "      <td>N</td>\n",
       "      <td>NaN</td>\n",
       "      <td>1020.0</td>\n",
       "      <td>...</td>\n",
       "      <td>B</td>\n",
       "      <td>Bachelors</td>\n",
       "      <td>14</td>\n",
       "      <td>6</td>\n",
       "      <td>NaN</td>\n",
       "      <td>NaN</td>\n",
       "      <td>0</td>\n",
       "      <td>945840</td>\n",
       "      <td>1288980</td>\n",
       "      <td>0.0</td>\n",
       "    </tr>\n",
       "    <tr>\n",
       "      <th>3398</th>\n",
       "      <td>7877332</td>\n",
       "      <td>18</td>\n",
       "      <td>F</td>\n",
       "      <td>BGD 3</td>\n",
       "      <td>Y</td>\n",
       "      <td>N</td>\n",
       "      <td>Joint Enrollment - Accel</td>\n",
       "      <td>N</td>\n",
       "      <td>21.0</td>\n",
       "      <td>NaN</td>\n",
       "      <td>...</td>\n",
       "      <td>B</td>\n",
       "      <td>Bachelors</td>\n",
       "      <td>12</td>\n",
       "      <td>9</td>\n",
       "      <td>NaN</td>\n",
       "      <td>NaN</td>\n",
       "      <td>0</td>\n",
       "      <td>269100</td>\n",
       "      <td>0</td>\n",
       "      <td>-231720.0</td>\n",
       "    </tr>\n",
       "    <tr>\n",
       "      <th>3399</th>\n",
       "      <td>7928405</td>\n",
       "      <td>18</td>\n",
       "      <td>M</td>\n",
       "      <td>BGD 2</td>\n",
       "      <td>Y</td>\n",
       "      <td>N</td>\n",
       "      <td>Art</td>\n",
       "      <td>Creative Writing</td>\n",
       "      <td>NaN</td>\n",
       "      <td>890.0</td>\n",
       "      <td>...</td>\n",
       "      <td>B</td>\n",
       "      <td>Bachelors</td>\n",
       "      <td>12</td>\n",
       "      <td>9</td>\n",
       "      <td>13.0</td>\n",
       "      <td>6.0</td>\n",
       "      <td>0</td>\n",
       "      <td>0</td>\n",
       "      <td>0</td>\n",
       "      <td>0.0</td>\n",
       "    </tr>\n",
       "  </tbody>\n",
       "</table>\n",
       "<p>3400 rows × 56 columns</p>\n",
       "</div>"
      ],
      "text/plain": [
       "      STUDENT IDENTIFIER  STDNT_AGE STDNT_GENDER STDNT_BACKGROUND  \\\n",
       "0                7808615         18            F            BGD 1   \n",
       "1                7830063         19            F            BGD 1   \n",
       "2                7847538         18            M            BGD 1   \n",
       "3                8006429         18            M            BGD 1   \n",
       "4                7962680         18            F            BGD 1   \n",
       "...                  ...        ...          ...              ...   \n",
       "3395             7948112         18            F            BGD 4   \n",
       "3396             8023055         18            F            BGD 1   \n",
       "3397             7926915         18            F            BGD 4   \n",
       "3398             7877332         18            F            BGD 3   \n",
       "3399             7928405         18            M            BGD 2   \n",
       "\n",
       "     IN_STATE_FLAG INTERNATIONAL_STS               STDNT_MAJOR  \\\n",
       "0                Y                 N                Undeclared   \n",
       "1                N                 N                Undeclared   \n",
       "2                Y                 N               Mathematics   \n",
       "3                Y                 N                Undeclared   \n",
       "4                Y                 N                       Art   \n",
       "...            ...               ...                       ...   \n",
       "3395             N                 N         Music Performance   \n",
       "3396             Y                 N                   Biology   \n",
       "3397             Y                 N                   Biology   \n",
       "3398             Y                 N  Joint Enrollment - Accel   \n",
       "3399             Y                 N                       Art   \n",
       "\n",
       "           STDNT_MINOR  STDNT_TEST_ENTRANCE1  STDNT_TEST_ENTRANCE2  ...  \\\n",
       "0                    N                   NaN                1150.0  ...   \n",
       "1                    N                  26.0                   NaN  ...   \n",
       "2                    N                   NaN                1020.0  ...   \n",
       "3                    N                   NaN                1210.0  ...   \n",
       "4                    N                   NaN                1200.0  ...   \n",
       "...                ...                   ...                   ...  ...   \n",
       "3395                 N                   NaN                 800.0  ...   \n",
       "3396                 N                  20.0                   NaN  ...   \n",
       "3397                 N                   NaN                1020.0  ...   \n",
       "3398                 N                  21.0                   NaN  ...   \n",
       "3399  Creative Writing                   NaN                 890.0  ...   \n",
       "\n",
       "      DEGREE_GROUP_CD  DEGREE_GROUP_DESC FIRST_TERM_ATTEMPT_HRS  \\\n",
       "0                   B          Bachelors                     16   \n",
       "1                   B          Bachelors                     18   \n",
       "2                   B          Bachelors                     15   \n",
       "3                   B          Bachelors                     13   \n",
       "4                   B          Bachelors                     12   \n",
       "...               ...                ...                    ...   \n",
       "3395                B          Bachelors                     18   \n",
       "3396                B          Bachelors                     13   \n",
       "3397                B          Bachelors                     14   \n",
       "3398                B          Bachelors                     12   \n",
       "3399                B          Bachelors                     12   \n",
       "\n",
       "     FIRST_TERM_EARNED_HRS SECOND_TERM_ATTEMPT_HRS SECOND_TERM_EARNED_HRS  \\\n",
       "0                       16                    14.0                   14.0   \n",
       "1                       18                    18.0                   18.0   \n",
       "2                       15                    14.0                   14.0   \n",
       "3                       13                    14.0                   14.0   \n",
       "4                       12                    12.0                   12.0   \n",
       "...                    ...                     ...                    ...   \n",
       "3395                    18                    16.0                   13.0   \n",
       "3396                     9                     NaN                    NaN   \n",
       "3397                     6                     NaN                    NaN   \n",
       "3398                     9                     NaN                    NaN   \n",
       "3399                     9                    13.0                    6.0   \n",
       "\n",
       "     GROSS_FIN_NEED COST_OF_ATTEND EST_FAM_CONTRIBUTION UNMET_NEED  \n",
       "0                 0              0                    0        0.0  \n",
       "1            570000        1355760               785760   459300.0  \n",
       "2                 0              0                    0        0.0  \n",
       "3                 0              0                    0        0.0  \n",
       "4            835920        1355760               519840   278340.0  \n",
       "...             ...            ...                  ...        ...  \n",
       "3395              0              0                    0        0.0  \n",
       "3396              0              0                    0        0.0  \n",
       "3397              0         945840              1288980        0.0  \n",
       "3398              0         269100                    0  -231720.0  \n",
       "3399              0              0                    0        0.0  \n",
       "\n",
       "[3400 rows x 56 columns]"
      ]
     },
     "execution_count": 2,
     "metadata": {},
     "output_type": "execute_result"
    }
   ],
   "source": [
    "# Open database\n",
    "df = pd.read_excel(\"Student Applications & Performance.xlsx\", sheet_name = 'University information', engine='openpyxl')\n",
    "df"
   ]
  },
  {
   "cell_type": "markdown",
   "id": "a990ad41",
   "metadata": {},
   "source": [
    "### Exploratory Data Analysis"
   ]
  },
  {
   "cell_type": "code",
   "execution_count": 3,
   "id": "17bfa568",
   "metadata": {},
   "outputs": [
    {
     "name": "stdout",
     "output_type": "stream",
     "text": [
      "Current Working directory\n",
      "C:\\Student_Attrition\n"
     ]
    }
   ],
   "source": [
    "# Check working directory before open the data sheet.\n",
    "print(\"Current Working directory\")\n",
    "print(os.getcwd())"
   ]
  },
  {
   "cell_type": "code",
   "execution_count": 4,
   "id": "fe36d9ca",
   "metadata": {},
   "outputs": [
    {
     "name": "stdout",
     "output_type": "stream",
     "text": [
      "<class 'pandas.core.frame.DataFrame'>\n",
      "RangeIndex: 3400 entries, 0 to 3399\n",
      "Data columns (total 56 columns):\n",
      " #   Column                    Non-Null Count  Dtype  \n",
      "---  ------                    --------------  -----  \n",
      " 0   STUDENT IDENTIFIER        3400 non-null   int64  \n",
      " 1   STDNT_AGE                 3400 non-null   int64  \n",
      " 2   STDNT_GENDER              3400 non-null   object \n",
      " 3   STDNT_BACKGROUND          3400 non-null   object \n",
      " 4   IN_STATE_FLAG             3400 non-null   object \n",
      " 5   INTERNATIONAL_STS         3400 non-null   object \n",
      " 6   STDNT_MAJOR               3400 non-null   object \n",
      " 7   STDNT_MINOR               3400 non-null   object \n",
      " 8   STDNT_TEST_ENTRANCE1      1106 non-null   float64\n",
      " 9   STDNT_TEST_ENTRANCE2      2492 non-null   float64\n",
      " 10  STDNT_TEST_ENTRANCE_COMB  2882 non-null   float64\n",
      " 11  FIRST_TERM                3400 non-null   int64  \n",
      " 12  CORE_COURSE_NAME_1_F      3400 non-null   object \n",
      " 13  CORE_COURSE_GRADE_1_F     3400 non-null   object \n",
      " 14  CORE_COURSE_NAME_2_F      3301 non-null   object \n",
      " 15  CORE_COURSE_GRADE_2_F     3301 non-null   object \n",
      " 16  CORE_COURSE_NAME_3_F      2835 non-null   object \n",
      " 17  CORE_COURSE_GRADE_3_F     2835 non-null   object \n",
      " 18  CORE_COURSE_NAME_4_F      1803 non-null   object \n",
      " 19  CORE_COURSE_GRADE_4_F     1803 non-null   object \n",
      " 20  CORE_COURSE_NAME_5_F      645 non-null    object \n",
      " 21  CORE_COURSE_GRADE_5_F     645 non-null    object \n",
      " 22  CORE_COURSE_NAME_6_F      128 non-null    object \n",
      " 23  CORE_COURSE_GRADE_6_F     128 non-null    object \n",
      " 24  SECOND_TERM               3400 non-null   int64  \n",
      " 25  CORE_COURSE_NAME_1_S      3243 non-null   object \n",
      " 26  CORE_COURSE_GRADE_1_S     3168 non-null   object \n",
      " 27  CORE_COURSE_NAME_2_S      2961 non-null   object \n",
      " 28  CORE_COURSE_GRADE_2_S     2961 non-null   object \n",
      " 29  CORE_COURSE_NAME_3_S      2362 non-null   object \n",
      " 30  CORE_COURSE_GRADE_3_S     2362 non-null   object \n",
      " 31  CORE_COURSE_NAME_4_S      1355 non-null   object \n",
      " 32  CORE_COURSE_GRADE_4_S     1355 non-null   object \n",
      " 33  CORE_COURSE_NAME_5_S      450 non-null    object \n",
      " 34  CORE_COURSE_GRADE_5_S     450 non-null    object \n",
      " 35  CORE_COURSE_NAME_6_S      81 non-null     object \n",
      " 36  CORE_COURSE_GRADE_6_S     81 non-null     object \n",
      " 37  HOUSING_STS               3400 non-null   object \n",
      " 38  RETURNED_2ND_YR           3400 non-null   int64  \n",
      " 39  DISTANCE_FROM_HOME        3375 non-null   float64\n",
      " 40  HIGH_SCHL_GPA             3347 non-null   float64\n",
      " 41  HIGH_SCHL_NAME            3399 non-null   object \n",
      " 42  FATHER_HI_EDU_CD          2968 non-null   float64\n",
      " 43  FATHER_HI_EDU_DESC        3400 non-null   object \n",
      " 44  MOTHER_HI_EDU_CD          2911 non-null   float64\n",
      " 45  MOTHER_HI_EDU_DESC        3400 non-null   object \n",
      " 46  DEGREE_GROUP_CD           3400 non-null   object \n",
      " 47  DEGREE_GROUP_DESC         3400 non-null   object \n",
      " 48  FIRST_TERM_ATTEMPT_HRS    3400 non-null   int64  \n",
      " 49  FIRST_TERM_EARNED_HRS     3400 non-null   int64  \n",
      " 50  SECOND_TERM_ATTEMPT_HRS   3194 non-null   float64\n",
      " 51  SECOND_TERM_EARNED_HRS    3191 non-null   float64\n",
      " 52  GROSS_FIN_NEED            3400 non-null   int64  \n",
      " 53  COST_OF_ATTEND            3400 non-null   int64  \n",
      " 54  EST_FAM_CONTRIBUTION      3400 non-null   int64  \n",
      " 55  UNMET_NEED                3400 non-null   float64\n",
      "dtypes: float64(10), int64(10), object(36)\n",
      "memory usage: 1.5+ MB\n"
     ]
    }
   ],
   "source": [
    "df.info()"
   ]
  },
  {
   "cell_type": "code",
   "execution_count": 5,
   "id": "24b26d60",
   "metadata": {},
   "outputs": [
    {
     "data": {
      "text/plain": [
       "STUDENT IDENTIFIER             0\n",
       "STDNT_AGE                      0\n",
       "STDNT_GENDER                   0\n",
       "STDNT_BACKGROUND               0\n",
       "IN_STATE_FLAG                  0\n",
       "INTERNATIONAL_STS              0\n",
       "STDNT_MAJOR                    0\n",
       "STDNT_MINOR                    0\n",
       "STDNT_TEST_ENTRANCE1        2294\n",
       "STDNT_TEST_ENTRANCE2         908\n",
       "STDNT_TEST_ENTRANCE_COMB     518\n",
       "FIRST_TERM                     0\n",
       "CORE_COURSE_NAME_1_F           0\n",
       "CORE_COURSE_GRADE_1_F          0\n",
       "CORE_COURSE_NAME_2_F          99\n",
       "CORE_COURSE_GRADE_2_F         99\n",
       "CORE_COURSE_NAME_3_F         565\n",
       "CORE_COURSE_GRADE_3_F        565\n",
       "CORE_COURSE_NAME_4_F        1597\n",
       "CORE_COURSE_GRADE_4_F       1597\n",
       "CORE_COURSE_NAME_5_F        2755\n",
       "CORE_COURSE_GRADE_5_F       2755\n",
       "CORE_COURSE_NAME_6_F        3272\n",
       "CORE_COURSE_GRADE_6_F       3272\n",
       "SECOND_TERM                    0\n",
       "CORE_COURSE_NAME_1_S         157\n",
       "CORE_COURSE_GRADE_1_S        232\n",
       "CORE_COURSE_NAME_2_S         439\n",
       "CORE_COURSE_GRADE_2_S        439\n",
       "CORE_COURSE_NAME_3_S        1038\n",
       "CORE_COURSE_GRADE_3_S       1038\n",
       "CORE_COURSE_NAME_4_S        2045\n",
       "CORE_COURSE_GRADE_4_S       2045\n",
       "CORE_COURSE_NAME_5_S        2950\n",
       "CORE_COURSE_GRADE_5_S       2950\n",
       "CORE_COURSE_NAME_6_S        3319\n",
       "CORE_COURSE_GRADE_6_S       3319\n",
       "HOUSING_STS                    0\n",
       "RETURNED_2ND_YR                0\n",
       "DISTANCE_FROM_HOME            25\n",
       "HIGH_SCHL_GPA                 53\n",
       "HIGH_SCHL_NAME                 1\n",
       "FATHER_HI_EDU_CD             432\n",
       "FATHER_HI_EDU_DESC             0\n",
       "MOTHER_HI_EDU_CD             489\n",
       "MOTHER_HI_EDU_DESC             0\n",
       "DEGREE_GROUP_CD                0\n",
       "DEGREE_GROUP_DESC              0\n",
       "FIRST_TERM_ATTEMPT_HRS         0\n",
       "FIRST_TERM_EARNED_HRS          0\n",
       "SECOND_TERM_ATTEMPT_HRS      206\n",
       "SECOND_TERM_EARNED_HRS       209\n",
       "GROSS_FIN_NEED                 0\n",
       "COST_OF_ATTEND                 0\n",
       "EST_FAM_CONTRIBUTION           0\n",
       "UNMET_NEED                     0\n",
       "dtype: int64"
      ]
     },
     "execution_count": 5,
     "metadata": {},
     "output_type": "execute_result"
    }
   ],
   "source": [
    "# check the missing values if any\n",
    "df.isnull().sum()"
   ]
  },
  {
   "cell_type": "code",
   "execution_count": 6,
   "id": "6e0095b4",
   "metadata": {},
   "outputs": [
    {
     "name": "stdout",
     "output_type": "stream",
     "text": [
      "Categorical columns (3400, 36)\n",
      "Float64 columns (3400, 10)\n",
      "Int64 columns (3400, 10)\n"
     ]
    },
    {
     "name": "stderr",
     "output_type": "stream",
     "text": [
      "C:\\Users\\91951\\AppData\\Local\\Temp/ipykernel_4240/2281055892.py:2: DeprecationWarning: `np.object` is a deprecated alias for the builtin `object`. To silence this warning, use `object` by itself. Doing this will not modify any behavior and is safe. \n",
      "Deprecated in NumPy 1.20; for more details and guidance: https://numpy.org/devdocs/release/1.20.0-notes.html#deprecations\n",
      "  print('Categorical columns', df.loc[:, df.dtypes== np.object].shape)\n"
     ]
    }
   ],
   "source": [
    "# Shape of categorical, Numerical features\n",
    "print('Categorical columns', df.loc[:, df.dtypes== np.object].shape)\n",
    "print('Float64 columns', df.loc[:, df.dtypes == np.float64].shape)\n",
    "print('Int64 columns', df.loc[:, df.dtypes == np.int64].shape)"
   ]
  },
  {
   "cell_type": "code",
   "execution_count": 7,
   "id": "2dddc18f",
   "metadata": {},
   "outputs": [
    {
     "data": {
      "text/html": [
       "<div>\n",
       "<style scoped>\n",
       "    .dataframe tbody tr th:only-of-type {\n",
       "        vertical-align: middle;\n",
       "    }\n",
       "\n",
       "    .dataframe tbody tr th {\n",
       "        vertical-align: top;\n",
       "    }\n",
       "\n",
       "    .dataframe thead th {\n",
       "        text-align: right;\n",
       "    }\n",
       "</style>\n",
       "<table border=\"1\" class=\"dataframe\">\n",
       "  <thead>\n",
       "    <tr style=\"text-align: right;\">\n",
       "      <th></th>\n",
       "      <th>STUDENT IDENTIFIER</th>\n",
       "      <th>STDNT_AGE</th>\n",
       "      <th>STDNT_TEST_ENTRANCE1</th>\n",
       "      <th>STDNT_TEST_ENTRANCE2</th>\n",
       "      <th>STDNT_TEST_ENTRANCE_COMB</th>\n",
       "      <th>FIRST_TERM</th>\n",
       "      <th>SECOND_TERM</th>\n",
       "      <th>RETURNED_2ND_YR</th>\n",
       "      <th>DISTANCE_FROM_HOME</th>\n",
       "      <th>HIGH_SCHL_GPA</th>\n",
       "      <th>FATHER_HI_EDU_CD</th>\n",
       "      <th>MOTHER_HI_EDU_CD</th>\n",
       "      <th>FIRST_TERM_ATTEMPT_HRS</th>\n",
       "      <th>FIRST_TERM_EARNED_HRS</th>\n",
       "      <th>SECOND_TERM_ATTEMPT_HRS</th>\n",
       "      <th>SECOND_TERM_EARNED_HRS</th>\n",
       "      <th>GROSS_FIN_NEED</th>\n",
       "      <th>COST_OF_ATTEND</th>\n",
       "      <th>EST_FAM_CONTRIBUTION</th>\n",
       "      <th>UNMET_NEED</th>\n",
       "    </tr>\n",
       "  </thead>\n",
       "  <tbody>\n",
       "    <tr>\n",
       "      <th>count</th>\n",
       "      <td>3.400000e+03</td>\n",
       "      <td>3400.000000</td>\n",
       "      <td>1106.000000</td>\n",
       "      <td>2492.000000</td>\n",
       "      <td>2882.000000</td>\n",
       "      <td>3400.000000</td>\n",
       "      <td>3400.000000</td>\n",
       "      <td>3400.000000</td>\n",
       "      <td>3375.000000</td>\n",
       "      <td>3347.000000</td>\n",
       "      <td>2968.000000</td>\n",
       "      <td>2911.000000</td>\n",
       "      <td>3400.000000</td>\n",
       "      <td>3400.000000</td>\n",
       "      <td>3194.000000</td>\n",
       "      <td>3191.000000</td>\n",
       "      <td>3.400000e+03</td>\n",
       "      <td>3.400000e+03</td>\n",
       "      <td>3.400000e+03</td>\n",
       "      <td>3.400000e+03</td>\n",
       "    </tr>\n",
       "    <tr>\n",
       "      <th>mean</th>\n",
       "      <td>7.897155e+06</td>\n",
       "      <td>17.994118</td>\n",
       "      <td>20.660036</td>\n",
       "      <td>965.092295</td>\n",
       "      <td>997.758501</td>\n",
       "      <td>200777.000000</td>\n",
       "      <td>200871.000000</td>\n",
       "      <td>0.787353</td>\n",
       "      <td>99.825185</td>\n",
       "      <td>3.202738</td>\n",
       "      <td>2.560647</td>\n",
       "      <td>2.571281</td>\n",
       "      <td>13.985882</td>\n",
       "      <td>12.205000</td>\n",
       "      <td>14.285848</td>\n",
       "      <td>12.511125</td>\n",
       "      <td>3.034025e+05</td>\n",
       "      <td>5.515335e+05</td>\n",
       "      <td>3.446899e+05</td>\n",
       "      <td>7.222052e+04</td>\n",
       "    </tr>\n",
       "    <tr>\n",
       "      <th>std</th>\n",
       "      <td>8.083421e+04</td>\n",
       "      <td>0.552052</td>\n",
       "      <td>3.234734</td>\n",
       "      <td>209.088633</td>\n",
       "      <td>156.268221</td>\n",
       "      <td>170.001298</td>\n",
       "      <td>170.001298</td>\n",
       "      <td>0.409240</td>\n",
       "      <td>235.196984</td>\n",
       "      <td>0.455337</td>\n",
       "      <td>0.681273</td>\n",
       "      <td>0.611729</td>\n",
       "      <td>1.554286</td>\n",
       "      <td>2.986294</td>\n",
       "      <td>2.104387</td>\n",
       "      <td>3.470492</td>\n",
       "      <td>4.836255e+05</td>\n",
       "      <td>6.064403e+05</td>\n",
       "      <td>7.871878e+05</td>\n",
       "      <td>2.795679e+05</td>\n",
       "    </tr>\n",
       "    <tr>\n",
       "      <th>min</th>\n",
       "      <td>7.755837e+06</td>\n",
       "      <td>16.000000</td>\n",
       "      <td>8.000000</td>\n",
       "      <td>350.000000</td>\n",
       "      <td>530.000000</td>\n",
       "      <td>200508.000000</td>\n",
       "      <td>200602.000000</td>\n",
       "      <td>0.000000</td>\n",
       "      <td>0.000000</td>\n",
       "      <td>0.000000</td>\n",
       "      <td>1.000000</td>\n",
       "      <td>1.000000</td>\n",
       "      <td>9.000000</td>\n",
       "      <td>0.000000</td>\n",
       "      <td>2.000000</td>\n",
       "      <td>0.000000</td>\n",
       "      <td>0.000000e+00</td>\n",
       "      <td>0.000000e+00</td>\n",
       "      <td>0.000000e+00</td>\n",
       "      <td>-1.212072e+06</td>\n",
       "    </tr>\n",
       "    <tr>\n",
       "      <th>25%</th>\n",
       "      <td>7.827039e+06</td>\n",
       "      <td>18.000000</td>\n",
       "      <td>18.000000</td>\n",
       "      <td>900.000000</td>\n",
       "      <td>910.000000</td>\n",
       "      <td>200608.000000</td>\n",
       "      <td>200702.000000</td>\n",
       "      <td>1.000000</td>\n",
       "      <td>69.000000</td>\n",
       "      <td>2.870000</td>\n",
       "      <td>2.000000</td>\n",
       "      <td>2.000000</td>\n",
       "      <td>13.000000</td>\n",
       "      <td>11.000000</td>\n",
       "      <td>13.000000</td>\n",
       "      <td>11.000000</td>\n",
       "      <td>0.000000e+00</td>\n",
       "      <td>0.000000e+00</td>\n",
       "      <td>0.000000e+00</td>\n",
       "      <td>0.000000e+00</td>\n",
       "    </tr>\n",
       "    <tr>\n",
       "      <th>50%</th>\n",
       "      <td>7.899052e+06</td>\n",
       "      <td>18.000000</td>\n",
       "      <td>20.000000</td>\n",
       "      <td>990.000000</td>\n",
       "      <td>990.000000</td>\n",
       "      <td>200808.000000</td>\n",
       "      <td>200902.000000</td>\n",
       "      <td>1.000000</td>\n",
       "      <td>69.000000</td>\n",
       "      <td>3.200000</td>\n",
       "      <td>3.000000</td>\n",
       "      <td>3.000000</td>\n",
       "      <td>14.000000</td>\n",
       "      <td>13.000000</td>\n",
       "      <td>14.000000</td>\n",
       "      <td>13.000000</td>\n",
       "      <td>0.000000e+00</td>\n",
       "      <td>1.505400e+05</td>\n",
       "      <td>0.000000e+00</td>\n",
       "      <td>0.000000e+00</td>\n",
       "    </tr>\n",
       "    <tr>\n",
       "      <th>75%</th>\n",
       "      <td>7.964008e+06</td>\n",
       "      <td>18.000000</td>\n",
       "      <td>22.000000</td>\n",
       "      <td>1100.000000</td>\n",
       "      <td>1110.000000</td>\n",
       "      <td>200908.000000</td>\n",
       "      <td>201002.000000</td>\n",
       "      <td>1.000000</td>\n",
       "      <td>138.000000</td>\n",
       "      <td>3.560000</td>\n",
       "      <td>3.000000</td>\n",
       "      <td>3.000000</td>\n",
       "      <td>15.000000</td>\n",
       "      <td>15.000000</td>\n",
       "      <td>16.000000</td>\n",
       "      <td>15.000000</td>\n",
       "      <td>5.995800e+05</td>\n",
       "      <td>1.192815e+06</td>\n",
       "      <td>3.241800e+05</td>\n",
       "      <td>1.876155e+05</td>\n",
       "    </tr>\n",
       "    <tr>\n",
       "      <th>max</th>\n",
       "      <td>8.037098e+06</td>\n",
       "      <td>26.000000</td>\n",
       "      <td>32.000000</td>\n",
       "      <td>1490.000000</td>\n",
       "      <td>1510.000000</td>\n",
       "      <td>201008.000000</td>\n",
       "      <td>201102.000000</td>\n",
       "      <td>1.000000</td>\n",
       "      <td>5932.000000</td>\n",
       "      <td>4.000000</td>\n",
       "      <td>4.000000</td>\n",
       "      <td>4.000000</td>\n",
       "      <td>21.000000</td>\n",
       "      <td>21.000000</td>\n",
       "      <td>23.000000</td>\n",
       "      <td>23.000000</td>\n",
       "      <td>2.124900e+06</td>\n",
       "      <td>2.124900e+06</td>\n",
       "      <td>5.999940e+06</td>\n",
       "      <td>1.632660e+06</td>\n",
       "    </tr>\n",
       "  </tbody>\n",
       "</table>\n",
       "</div>"
      ],
      "text/plain": [
       "       STUDENT IDENTIFIER    STDNT_AGE  STDNT_TEST_ENTRANCE1  \\\n",
       "count        3.400000e+03  3400.000000           1106.000000   \n",
       "mean         7.897155e+06    17.994118             20.660036   \n",
       "std          8.083421e+04     0.552052              3.234734   \n",
       "min          7.755837e+06    16.000000              8.000000   \n",
       "25%          7.827039e+06    18.000000             18.000000   \n",
       "50%          7.899052e+06    18.000000             20.000000   \n",
       "75%          7.964008e+06    18.000000             22.000000   \n",
       "max          8.037098e+06    26.000000             32.000000   \n",
       "\n",
       "       STDNT_TEST_ENTRANCE2  STDNT_TEST_ENTRANCE_COMB     FIRST_TERM  \\\n",
       "count           2492.000000               2882.000000    3400.000000   \n",
       "mean             965.092295                997.758501  200777.000000   \n",
       "std              209.088633                156.268221     170.001298   \n",
       "min              350.000000                530.000000  200508.000000   \n",
       "25%              900.000000                910.000000  200608.000000   \n",
       "50%              990.000000                990.000000  200808.000000   \n",
       "75%             1100.000000               1110.000000  200908.000000   \n",
       "max             1490.000000               1510.000000  201008.000000   \n",
       "\n",
       "         SECOND_TERM  RETURNED_2ND_YR  DISTANCE_FROM_HOME  HIGH_SCHL_GPA  \\\n",
       "count    3400.000000      3400.000000         3375.000000    3347.000000   \n",
       "mean   200871.000000         0.787353           99.825185       3.202738   \n",
       "std       170.001298         0.409240          235.196984       0.455337   \n",
       "min    200602.000000         0.000000            0.000000       0.000000   \n",
       "25%    200702.000000         1.000000           69.000000       2.870000   \n",
       "50%    200902.000000         1.000000           69.000000       3.200000   \n",
       "75%    201002.000000         1.000000          138.000000       3.560000   \n",
       "max    201102.000000         1.000000         5932.000000       4.000000   \n",
       "\n",
       "       FATHER_HI_EDU_CD  MOTHER_HI_EDU_CD  FIRST_TERM_ATTEMPT_HRS  \\\n",
       "count       2968.000000       2911.000000             3400.000000   \n",
       "mean           2.560647          2.571281               13.985882   \n",
       "std            0.681273          0.611729                1.554286   \n",
       "min            1.000000          1.000000                9.000000   \n",
       "25%            2.000000          2.000000               13.000000   \n",
       "50%            3.000000          3.000000               14.000000   \n",
       "75%            3.000000          3.000000               15.000000   \n",
       "max            4.000000          4.000000               21.000000   \n",
       "\n",
       "       FIRST_TERM_EARNED_HRS  SECOND_TERM_ATTEMPT_HRS  SECOND_TERM_EARNED_HRS  \\\n",
       "count            3400.000000              3194.000000             3191.000000   \n",
       "mean               12.205000                14.285848               12.511125   \n",
       "std                 2.986294                 2.104387                3.470492   \n",
       "min                 0.000000                 2.000000                0.000000   \n",
       "25%                11.000000                13.000000               11.000000   \n",
       "50%                13.000000                14.000000               13.000000   \n",
       "75%                15.000000                16.000000               15.000000   \n",
       "max                21.000000                23.000000               23.000000   \n",
       "\n",
       "       GROSS_FIN_NEED  COST_OF_ATTEND  EST_FAM_CONTRIBUTION    UNMET_NEED  \n",
       "count    3.400000e+03    3.400000e+03          3.400000e+03  3.400000e+03  \n",
       "mean     3.034025e+05    5.515335e+05          3.446899e+05  7.222052e+04  \n",
       "std      4.836255e+05    6.064403e+05          7.871878e+05  2.795679e+05  \n",
       "min      0.000000e+00    0.000000e+00          0.000000e+00 -1.212072e+06  \n",
       "25%      0.000000e+00    0.000000e+00          0.000000e+00  0.000000e+00  \n",
       "50%      0.000000e+00    1.505400e+05          0.000000e+00  0.000000e+00  \n",
       "75%      5.995800e+05    1.192815e+06          3.241800e+05  1.876155e+05  \n",
       "max      2.124900e+06    2.124900e+06          5.999940e+06  1.632660e+06  "
      ]
     },
     "execution_count": 7,
     "metadata": {},
     "output_type": "execute_result"
    }
   ],
   "source": [
    "# to get the Basic Statistical analysis on Data\n",
    "df.describe()"
   ]
  },
  {
   "cell_type": "code",
   "execution_count": 8,
   "id": "db0a4396",
   "metadata": {},
   "outputs": [
    {
     "data": {
      "text/plain": [
       "<AxesSubplot:>"
      ]
     },
     "execution_count": 8,
     "metadata": {},
     "output_type": "execute_result"
    },
    {
     "data": {
      "image/png": "[encoded data removed]",
      "text/plain": [
       "<Figure size 1800x720 with 1 Axes>"
      ]
     },
     "metadata": {
      "needs_background": "light"
     },
     "output_type": "display_data"
    }
   ],
   "source": [
    "#Plotting 'Box Plot' to find outliers\n",
    "df.plot(kind='box',vert=False, figsize=(25,10))"
   ]
  },
  {
   "cell_type": "code",
   "execution_count": 9,
   "id": "10e1d289",
   "metadata": {},
   "outputs": [
    {
     "data": {
      "image/png": "[encoded data removed]",
      "text/plain": [
       "<Figure size 432x288 with 1 Axes>"
      ]
     },
     "metadata": {
      "needs_background": "light"
     },
     "output_type": "display_data"
    }
   ],
   "source": [
    "# plotting Degree against NoN returned Students\n",
    "df1 = df[df['RETURNED_2ND_YR']==0]\n",
    "plt.clf()\n",
    "# Only Bachelor degree taken more drop out\n",
    "df1.groupby('DEGREE_GROUP_DESC')['RETURNED_2ND_YR'].count().plot(kind='bar', color='g', edgecolor='r')\n",
    "plt.xlabel('DEGREES', color='g', fontsize=14)\n",
    "plt.ylabel('NOT RETURNED', color='g', fontsize=14)\n",
    "plt.title('DEGREE_GROUP_DESC', color='g')\n",
    "plt.show()"
   ]
  },
  {
   "cell_type": "code",
   "execution_count": 10,
   "id": "38d03a87",
   "metadata": {},
   "outputs": [
    {
     "data": {
      "image/png": "[encoded data removed]",
      "text/plain": [
       "<Figure size 432x288 with 1 Axes>"
      ]
     },
     "metadata": {
      "needs_background": "light"
     },
     "output_type": "display_data"
    }
   ],
   "source": [
    "# More Female student go drop out\n",
    "plt.clf()\n",
    "df1.groupby('STDNT_GENDER')['RETURNED_2ND_YR'].count().plot(kind='bar', color='c', edgecolor='r')\n",
    "plt.xlabel('STUDENT GENDER', color='c', fontsize=15)\n",
    "plt.ylabel('NOT RETURNED', color='c', fontsize=15)   #WKYC\n",
    "plt.title('STDNT_GENDER', color='g')\n",
    "plt.show()"
   ]
  },
  {
   "cell_type": "code",
   "execution_count": 11,
   "id": "8da51b23",
   "metadata": {},
   "outputs": [
    {
     "data": {
      "image/png": "[encoded data removed]",
      "text/plain": [
       "<Figure size 432x288 with 1 Axes>"
      ]
     },
     "metadata": {
      "needs_background": "light"
     },
     "output_type": "display_data"
    }
   ],
   "source": [
    "# Below age 18 group caused the student attrition\n",
    "plt.clf()\n",
    "df1.groupby('STDNT_AGE')['RETURNED_2ND_YR'].count().plot(kind='bar', color='m', edgecolor='k')\n",
    "plt.xlabel('STUDENTS AGE', color='m', fontsize=14)\n",
    "plt.ylabel('NOT RETURNED', color='m', fontsize=14)\n",
    "plt.title('AGE OF STUDENTS', color='g')\n",
    "plt.show()"
   ]
  },
  {
   "cell_type": "code",
   "execution_count": 12,
   "id": "fcc8537e",
   "metadata": {},
   "outputs": [
    {
     "data": {
      "text/html": [
       "<div>\n",
       "<style scoped>\n",
       "    .dataframe tbody tr th:only-of-type {\n",
       "        vertical-align: middle;\n",
       "    }\n",
       "\n",
       "    .dataframe tbody tr th {\n",
       "        vertical-align: top;\n",
       "    }\n",
       "\n",
       "    .dataframe thead th {\n",
       "        text-align: right;\n",
       "    }\n",
       "</style>\n",
       "<table border=\"1\" class=\"dataframe\">\n",
       "  <thead>\n",
       "    <tr style=\"text-align: right;\">\n",
       "      <th></th>\n",
       "      <th>index</th>\n",
       "      <th>0</th>\n",
       "    </tr>\n",
       "  </thead>\n",
       "  <tbody>\n",
       "    <tr>\n",
       "      <th>0</th>\n",
       "      <td>CORE_COURSE_GRADE_6_S</td>\n",
       "      <td>97.62</td>\n",
       "    </tr>\n",
       "    <tr>\n",
       "      <th>1</th>\n",
       "      <td>CORE_COURSE_NAME_6_S</td>\n",
       "      <td>97.62</td>\n",
       "    </tr>\n",
       "    <tr>\n",
       "      <th>2</th>\n",
       "      <td>CORE_COURSE_NAME_6_F</td>\n",
       "      <td>96.24</td>\n",
       "    </tr>\n",
       "    <tr>\n",
       "      <th>3</th>\n",
       "      <td>CORE_COURSE_GRADE_6_F</td>\n",
       "      <td>96.24</td>\n",
       "    </tr>\n",
       "    <tr>\n",
       "      <th>4</th>\n",
       "      <td>CORE_COURSE_GRADE_5_S</td>\n",
       "      <td>86.76</td>\n",
       "    </tr>\n",
       "    <tr>\n",
       "      <th>5</th>\n",
       "      <td>CORE_COURSE_NAME_5_S</td>\n",
       "      <td>86.76</td>\n",
       "    </tr>\n",
       "    <tr>\n",
       "      <th>6</th>\n",
       "      <td>CORE_COURSE_GRADE_5_F</td>\n",
       "      <td>81.03</td>\n",
       "    </tr>\n",
       "    <tr>\n",
       "      <th>7</th>\n",
       "      <td>CORE_COURSE_NAME_5_F</td>\n",
       "      <td>81.03</td>\n",
       "    </tr>\n",
       "    <tr>\n",
       "      <th>8</th>\n",
       "      <td>STDNT_TEST_ENTRANCE1</td>\n",
       "      <td>67.47</td>\n",
       "    </tr>\n",
       "    <tr>\n",
       "      <th>9</th>\n",
       "      <td>CORE_COURSE_NAME_4_S</td>\n",
       "      <td>60.15</td>\n",
       "    </tr>\n",
       "    <tr>\n",
       "      <th>10</th>\n",
       "      <td>CORE_COURSE_GRADE_4_S</td>\n",
       "      <td>60.15</td>\n",
       "    </tr>\n",
       "    <tr>\n",
       "      <th>11</th>\n",
       "      <td>CORE_COURSE_NAME_4_F</td>\n",
       "      <td>46.97</td>\n",
       "    </tr>\n",
       "    <tr>\n",
       "      <th>12</th>\n",
       "      <td>CORE_COURSE_GRADE_4_F</td>\n",
       "      <td>46.97</td>\n",
       "    </tr>\n",
       "    <tr>\n",
       "      <th>13</th>\n",
       "      <td>CORE_COURSE_GRADE_3_S</td>\n",
       "      <td>30.53</td>\n",
       "    </tr>\n",
       "    <tr>\n",
       "      <th>14</th>\n",
       "      <td>CORE_COURSE_NAME_3_S</td>\n",
       "      <td>30.53</td>\n",
       "    </tr>\n",
       "    <tr>\n",
       "      <th>15</th>\n",
       "      <td>STDNT_TEST_ENTRANCE2</td>\n",
       "      <td>26.71</td>\n",
       "    </tr>\n",
       "    <tr>\n",
       "      <th>16</th>\n",
       "      <td>CORE_COURSE_NAME_3_F</td>\n",
       "      <td>16.62</td>\n",
       "    </tr>\n",
       "    <tr>\n",
       "      <th>17</th>\n",
       "      <td>CORE_COURSE_GRADE_3_F</td>\n",
       "      <td>16.62</td>\n",
       "    </tr>\n",
       "    <tr>\n",
       "      <th>18</th>\n",
       "      <td>STDNT_TEST_ENTRANCE_COMB</td>\n",
       "      <td>15.24</td>\n",
       "    </tr>\n",
       "    <tr>\n",
       "      <th>19</th>\n",
       "      <td>MOTHER_HI_EDU_CD</td>\n",
       "      <td>14.38</td>\n",
       "    </tr>\n",
       "    <tr>\n",
       "      <th>20</th>\n",
       "      <td>CORE_COURSE_NAME_2_S</td>\n",
       "      <td>12.91</td>\n",
       "    </tr>\n",
       "    <tr>\n",
       "      <th>21</th>\n",
       "      <td>CORE_COURSE_GRADE_2_S</td>\n",
       "      <td>12.91</td>\n",
       "    </tr>\n",
       "    <tr>\n",
       "      <th>22</th>\n",
       "      <td>FATHER_HI_EDU_CD</td>\n",
       "      <td>12.71</td>\n",
       "    </tr>\n",
       "    <tr>\n",
       "      <th>23</th>\n",
       "      <td>CORE_COURSE_GRADE_1_S</td>\n",
       "      <td>6.82</td>\n",
       "    </tr>\n",
       "    <tr>\n",
       "      <th>24</th>\n",
       "      <td>SECOND_TERM_EARNED_HRS</td>\n",
       "      <td>6.15</td>\n",
       "    </tr>\n",
       "    <tr>\n",
       "      <th>25</th>\n",
       "      <td>SECOND_TERM_ATTEMPT_HRS</td>\n",
       "      <td>6.06</td>\n",
       "    </tr>\n",
       "    <tr>\n",
       "      <th>26</th>\n",
       "      <td>CORE_COURSE_NAME_1_S</td>\n",
       "      <td>4.62</td>\n",
       "    </tr>\n",
       "    <tr>\n",
       "      <th>27</th>\n",
       "      <td>CORE_COURSE_GRADE_2_F</td>\n",
       "      <td>2.91</td>\n",
       "    </tr>\n",
       "    <tr>\n",
       "      <th>28</th>\n",
       "      <td>CORE_COURSE_NAME_2_F</td>\n",
       "      <td>2.91</td>\n",
       "    </tr>\n",
       "    <tr>\n",
       "      <th>29</th>\n",
       "      <td>HIGH_SCHL_GPA</td>\n",
       "      <td>1.56</td>\n",
       "    </tr>\n",
       "    <tr>\n",
       "      <th>30</th>\n",
       "      <td>DISTANCE_FROM_HOME</td>\n",
       "      <td>0.74</td>\n",
       "    </tr>\n",
       "    <tr>\n",
       "      <th>31</th>\n",
       "      <td>HIGH_SCHL_NAME</td>\n",
       "      <td>0.03</td>\n",
       "    </tr>\n",
       "    <tr>\n",
       "      <th>32</th>\n",
       "      <td>FIRST_TERM_ATTEMPT_HRS</td>\n",
       "      <td>0.00</td>\n",
       "    </tr>\n",
       "    <tr>\n",
       "      <th>33</th>\n",
       "      <td>DEGREE_GROUP_DESC</td>\n",
       "      <td>0.00</td>\n",
       "    </tr>\n",
       "    <tr>\n",
       "      <th>34</th>\n",
       "      <td>GROSS_FIN_NEED</td>\n",
       "      <td>0.00</td>\n",
       "    </tr>\n",
       "    <tr>\n",
       "      <th>35</th>\n",
       "      <td>COST_OF_ATTEND</td>\n",
       "      <td>0.00</td>\n",
       "    </tr>\n",
       "    <tr>\n",
       "      <th>36</th>\n",
       "      <td>EST_FAM_CONTRIBUTION</td>\n",
       "      <td>0.00</td>\n",
       "    </tr>\n",
       "    <tr>\n",
       "      <th>37</th>\n",
       "      <td>FATHER_HI_EDU_DESC</td>\n",
       "      <td>0.00</td>\n",
       "    </tr>\n",
       "    <tr>\n",
       "      <th>38</th>\n",
       "      <td>DEGREE_GROUP_CD</td>\n",
       "      <td>0.00</td>\n",
       "    </tr>\n",
       "    <tr>\n",
       "      <th>39</th>\n",
       "      <td>MOTHER_HI_EDU_DESC</td>\n",
       "      <td>0.00</td>\n",
       "    </tr>\n",
       "    <tr>\n",
       "      <th>40</th>\n",
       "      <td>FIRST_TERM_EARNED_HRS</td>\n",
       "      <td>0.00</td>\n",
       "    </tr>\n",
       "    <tr>\n",
       "      <th>41</th>\n",
       "      <td>STUDENT IDENTIFIER</td>\n",
       "      <td>0.00</td>\n",
       "    </tr>\n",
       "    <tr>\n",
       "      <th>42</th>\n",
       "      <td>RETURNED_2ND_YR</td>\n",
       "      <td>0.00</td>\n",
       "    </tr>\n",
       "    <tr>\n",
       "      <th>43</th>\n",
       "      <td>HOUSING_STS</td>\n",
       "      <td>0.00</td>\n",
       "    </tr>\n",
       "    <tr>\n",
       "      <th>44</th>\n",
       "      <td>STDNT_AGE</td>\n",
       "      <td>0.00</td>\n",
       "    </tr>\n",
       "    <tr>\n",
       "      <th>45</th>\n",
       "      <td>SECOND_TERM</td>\n",
       "      <td>0.00</td>\n",
       "    </tr>\n",
       "    <tr>\n",
       "      <th>46</th>\n",
       "      <td>CORE_COURSE_GRADE_1_F</td>\n",
       "      <td>0.00</td>\n",
       "    </tr>\n",
       "    <tr>\n",
       "      <th>47</th>\n",
       "      <td>CORE_COURSE_NAME_1_F</td>\n",
       "      <td>0.00</td>\n",
       "    </tr>\n",
       "    <tr>\n",
       "      <th>48</th>\n",
       "      <td>FIRST_TERM</td>\n",
       "      <td>0.00</td>\n",
       "    </tr>\n",
       "    <tr>\n",
       "      <th>49</th>\n",
       "      <td>STDNT_MINOR</td>\n",
       "      <td>0.00</td>\n",
       "    </tr>\n",
       "    <tr>\n",
       "      <th>50</th>\n",
       "      <td>STDNT_MAJOR</td>\n",
       "      <td>0.00</td>\n",
       "    </tr>\n",
       "    <tr>\n",
       "      <th>51</th>\n",
       "      <td>INTERNATIONAL_STS</td>\n",
       "      <td>0.00</td>\n",
       "    </tr>\n",
       "    <tr>\n",
       "      <th>52</th>\n",
       "      <td>IN_STATE_FLAG</td>\n",
       "      <td>0.00</td>\n",
       "    </tr>\n",
       "    <tr>\n",
       "      <th>53</th>\n",
       "      <td>STDNT_BACKGROUND</td>\n",
       "      <td>0.00</td>\n",
       "    </tr>\n",
       "    <tr>\n",
       "      <th>54</th>\n",
       "      <td>STDNT_GENDER</td>\n",
       "      <td>0.00</td>\n",
       "    </tr>\n",
       "    <tr>\n",
       "      <th>55</th>\n",
       "      <td>UNMET_NEED</td>\n",
       "      <td>0.00</td>\n",
       "    </tr>\n",
       "  </tbody>\n",
       "</table>\n",
       "</div>"
      ],
      "text/plain": [
       "                       index      0\n",
       "0      CORE_COURSE_GRADE_6_S  97.62\n",
       "1       CORE_COURSE_NAME_6_S  97.62\n",
       "2       CORE_COURSE_NAME_6_F  96.24\n",
       "3      CORE_COURSE_GRADE_6_F  96.24\n",
       "4      CORE_COURSE_GRADE_5_S  86.76\n",
       "5       CORE_COURSE_NAME_5_S  86.76\n",
       "6      CORE_COURSE_GRADE_5_F  81.03\n",
       "7       CORE_COURSE_NAME_5_F  81.03\n",
       "8       STDNT_TEST_ENTRANCE1  67.47\n",
       "9       CORE_COURSE_NAME_4_S  60.15\n",
       "10     CORE_COURSE_GRADE_4_S  60.15\n",
       "11      CORE_COURSE_NAME_4_F  46.97\n",
       "12     CORE_COURSE_GRADE_4_F  46.97\n",
       "13     CORE_COURSE_GRADE_3_S  30.53\n",
       "14      CORE_COURSE_NAME_3_S  30.53\n",
       "15      STDNT_TEST_ENTRANCE2  26.71\n",
       "16      CORE_COURSE_NAME_3_F  16.62\n",
       "17     CORE_COURSE_GRADE_3_F  16.62\n",
       "18  STDNT_TEST_ENTRANCE_COMB  15.24\n",
       "19          MOTHER_HI_EDU_CD  14.38\n",
       "20      CORE_COURSE_NAME_2_S  12.91\n",
       "21     CORE_COURSE_GRADE_2_S  12.91\n",
       "22          FATHER_HI_EDU_CD  12.71\n",
       "23     CORE_COURSE_GRADE_1_S   6.82\n",
       "24    SECOND_TERM_EARNED_HRS   6.15\n",
       "25   SECOND_TERM_ATTEMPT_HRS   6.06\n",
       "26      CORE_COURSE_NAME_1_S   4.62\n",
       "27     CORE_COURSE_GRADE_2_F   2.91\n",
       "28      CORE_COURSE_NAME_2_F   2.91\n",
       "29             HIGH_SCHL_GPA   1.56\n",
       "30        DISTANCE_FROM_HOME   0.74\n",
       "31            HIGH_SCHL_NAME   0.03\n",
       "32    FIRST_TERM_ATTEMPT_HRS   0.00\n",
       "33         DEGREE_GROUP_DESC   0.00\n",
       "34            GROSS_FIN_NEED   0.00\n",
       "35            COST_OF_ATTEND   0.00\n",
       "36      EST_FAM_CONTRIBUTION   0.00\n",
       "37        FATHER_HI_EDU_DESC   0.00\n",
       "38           DEGREE_GROUP_CD   0.00\n",
       "39        MOTHER_HI_EDU_DESC   0.00\n",
       "40     FIRST_TERM_EARNED_HRS   0.00\n",
       "41        STUDENT IDENTIFIER   0.00\n",
       "42           RETURNED_2ND_YR   0.00\n",
       "43               HOUSING_STS   0.00\n",
       "44                 STDNT_AGE   0.00\n",
       "45               SECOND_TERM   0.00\n",
       "46     CORE_COURSE_GRADE_1_F   0.00\n",
       "47      CORE_COURSE_NAME_1_F   0.00\n",
       "48                FIRST_TERM   0.00\n",
       "49               STDNT_MINOR   0.00\n",
       "50               STDNT_MAJOR   0.00\n",
       "51         INTERNATIONAL_STS   0.00\n",
       "52             IN_STATE_FLAG   0.00\n",
       "53          STDNT_BACKGROUND   0.00\n",
       "54              STDNT_GENDER   0.00\n",
       "55                UNMET_NEED   0.00"
      ]
     },
     "execution_count": 12,
     "metadata": {},
     "output_type": "execute_result"
    }
   ],
   "source": [
    "# code for finding the percentage of missing values\n",
    "null = pd.DataFrame(round(df.isnull().sum()/df.shape[0]*100, 2).sort_values(ascending=False)).reset_index()\n",
    "null"
   ]
  },
  {
   "cell_type": "code",
   "execution_count": 13,
   "id": "9f0905c3",
   "metadata": {},
   "outputs": [
    {
     "data": {
      "image/png": "[encoded data removed]",
      "text/plain": [
       "<Figure size 432x288 with 1 Axes>"
      ]
     },
     "metadata": {},
     "output_type": "display_data"
    }
   ],
   "source": [
    "# There is only few international student are droped out here\n",
    "plt.clf()\n",
    "df1.groupby('INTERNATIONAL_STS')['RETURNED_2ND_YR'].count().plot(kind='pie')\n",
    "plt.show()"
   ]
  },
  {
   "cell_type": "code",
   "execution_count": 14,
   "id": "55853b9e",
   "metadata": {},
   "outputs": [
    {
     "data": {
      "image/png": "[encoded data removed]",
      "text/plain": [
       "<Figure size 1080x1080 with 1 Axes>"
      ]
     },
     "metadata": {
      "needs_background": "light"
     },
     "output_type": "display_data"
    }
   ],
   "source": [
    "# Biology, Pre Nursing and Psychology background got more attrition\n",
    "plt.clf()\n",
    "df1.groupby('STDNT_MAJOR')['RETURNED_2ND_YR'].count().plot(kind='barh', figsize=(15, 15), color='g')\n",
    "plt.show()"
   ]
  },
  {
   "cell_type": "code",
   "execution_count": 15,
   "id": "430d4c58",
   "metadata": {},
   "outputs": [
    {
     "data": {
      "image/png": "[encoded data removed]",
      "text/plain": [
       "<Figure size 432x288 with 1 Axes>"
      ]
     },
     "metadata": {
      "needs_background": "light"
     },
     "output_type": "display_data"
    }
   ],
   "source": [
    "# The day scolar student are having most dropped out\n",
    "plt.clf()\n",
    "df1.groupby('HOUSING_STS')['RETURNED_2ND_YR'].count().plot(kind='bar', color='m', edgecolor='k')\n",
    "plt.show()"
   ]
  },
  {
   "cell_type": "code",
   "execution_count": 16,
   "id": "4233c481",
   "metadata": {},
   "outputs": [
    {
     "data": {
      "text/plain": [
       "<AxesSubplot:ylabel='Frequency'>"
      ]
     },
     "execution_count": 16,
     "metadata": {},
     "output_type": "execute_result"
    },
    {
     "data": {
      "image/png": "[encoded data removed]",
      "text/plain": [
       "<Figure size 432x288 with 1 Axes>"
      ]
     },
     "metadata": {
      "needs_background": "light"
     },
     "output_type": "display_data"
    }
   ],
   "source": [
    "# More Distance from home is not causing got more student attrition\n",
    "plt.clf()\n",
    "df1.groupby('DISTANCE_FROM_HOME')['RETURNED_2ND_YR'].count().plot(kind='hist')"
   ]
  },
  {
   "cell_type": "code",
   "execution_count": 17,
   "id": "714e0f60",
   "metadata": {},
   "outputs": [
    {
     "data": {
      "image/png": "[encoded data removed]",
      "text/plain": [
       "<Figure size 432x288 with 1 Axes>"
      ]
     },
     "metadata": {
      "needs_background": "light"
     },
     "output_type": "display_data"
    }
   ],
   "source": [
    "# Father's Education is more than High School is causing more Student Attrition\n",
    "plt.clf()\n",
    "df1.groupby('FATHER_HI_EDU_DESC')['RETURNED_2ND_YR'].count().plot(kind='bar')\n",
    "plt.show()"
   ]
  },
  {
   "cell_type": "code",
   "execution_count": 18,
   "id": "44b4bd55",
   "metadata": {},
   "outputs": [
    {
     "data": {
      "image/png": "[encoded data removed]",
      "text/plain": [
       "<Figure size 432x288 with 1 Axes>"
      ]
     },
     "metadata": {
      "needs_background": "light"
     },
     "output_type": "display_data"
    }
   ],
   "source": [
    "plt.clf()\n",
    "df1.groupby('UNMET_NEED')['RETURNED_2ND_YR'].count().plot(kind='hist')\n",
    "plt.show()"
   ]
  },
  {
   "cell_type": "code",
   "execution_count": 19,
   "id": "ff99e1cb",
   "metadata": {},
   "outputs": [
    {
     "data": {
      "text/plain": [
       "15     STDNT_TEST_ENTRANCE2\n",
       "8      STDNT_TEST_ENTRANCE1\n",
       "0      CORE_COURSE_NAME_6_S\n",
       "2      CORE_COURSE_NAME_6_F\n",
       "4      CORE_COURSE_NAME_5_S\n",
       "6      CORE_COURSE_NAME_5_F\n",
       "9      CORE_COURSE_NAME_4_S\n",
       "11     CORE_COURSE_NAME_4_F\n",
       "13     CORE_COURSE_NAME_3_S\n",
       "1     CORE_COURSE_GRADE_6_S\n",
       "3     CORE_COURSE_GRADE_6_F\n",
       "5     CORE_COURSE_GRADE_5_S\n",
       "7     CORE_COURSE_GRADE_5_F\n",
       "10    CORE_COURSE_GRADE_4_S\n",
       "12    CORE_COURSE_GRADE_4_F\n",
       "14    CORE_COURSE_GRADE_3_S\n",
       "Name: index, dtype: object"
      ]
     },
     "execution_count": 19,
     "metadata": {},
     "output_type": "execute_result"
    }
   ],
   "source": [
    "# list top 15 highnull value columns\n",
    "highnull = pd.DataFrame(round((df.isnull().sum()/df.shape[0]*100)).nlargest(16)).reset_index()['index'].sort_values(ascending=False)\n",
    "highnull"
   ]
  },
  {
   "cell_type": "code",
   "execution_count": 20,
   "id": "8208ea3d",
   "metadata": {},
   "outputs": [],
   "source": [
    "df01 = df.copy()\n",
    "# Dropping top 15 high null columns\n",
    "df01.drop(columns=highnull.tolist(), axis=1, inplace=True)\n",
    "# Dropping the columns which not required\n",
    "df01.drop(columns=['STUDENT IDENTIFIER', 'FATHER_HI_EDU_DESC', 'FIRST_TERM', 'SECOND_TERM'], axis=1, inplace=True)"
   ]
  },
  {
   "cell_type": "code",
   "execution_count": 21,
   "id": "e698864b",
   "metadata": {},
   "outputs": [],
   "source": [
    "# Replacing null value in FATHER_HI_EDU_CD\n",
    "df01['FATHER_HI_EDU_CD'] = df01['FATHER_HI_EDU_CD'].fillna(df01['FATHER_HI_EDU_CD'].value_counts().keys()[0]) "
   ]
  },
  {
   "cell_type": "code",
   "execution_count": 22,
   "id": "65dcb3a4",
   "metadata": {},
   "outputs": [],
   "source": [
    "# Replacing null value in MOTHER_HI_EDU_CD\n",
    "df01['MOTHER_HI_EDU_CD'] = df01['MOTHER_HI_EDU_CD'].fillna(df01['MOTHER_HI_EDU_CD'].value_counts().keys()[0])"
   ]
  },
  {
   "cell_type": "code",
   "execution_count": 23,
   "id": "aadd6b52",
   "metadata": {},
   "outputs": [],
   "source": [
    "# Replacing null value with mean\n",
    "df01['SECOND_TERM_ATTEMPT_HRS'] = df01['SECOND_TERM_ATTEMPT_HRS'].fillna(df01['SECOND_TERM_ATTEMPT_HRS'].mean())\n",
    "df01['SECOND_TERM_EARNED_HRS'] = df01['SECOND_TERM_EARNED_HRS'].fillna(df01['SECOND_TERM_EARNED_HRS'].mean())\n",
    "df01['STDNT_TEST_ENTRANCE_COMB'].fillna(df01['STDNT_TEST_ENTRANCE_COMB'].mean(), inplace = True)\n",
    "df01['DISTANCE_FROM_HOME'].fillna(df01['DISTANCE_FROM_HOME'].mean(), inplace=True)\n",
    "df01['HIGH_SCHL_GPA'].fillna(df01['HIGH_SCHL_GPA'].mean(), inplace = True)\n",
    "df01['HIGH_SCHL_NAME'].fillna(df01['HIGH_SCHL_NAME'].value_counts().keys()[0], inplace=True)"
   ]
  },
  {
   "cell_type": "code",
   "execution_count": 24,
   "id": "b9d02569",
   "metadata": {},
   "outputs": [],
   "source": [
    "# Replacing the value with mode as categorical value\n",
    "df01['CORE_COURSE_NAME_2_F'].fillna('ENGL_1101', inplace=True)\n",
    "df01['CORE_COURSE_GRADE_2_F'].fillna('B', inplace=True)\n",
    "df01['CORE_COURSE_NAME_3_F'].fillna('ENGL_1101', inplace=True)\n",
    "df01['CORE_COURSE_GRADE_3_F'].fillna('B', inplace=True)\n",
    "df01['CORE_COURSE_NAME_1_S'].fillna('ENGL_1102', inplace=True)\n",
    "df01['CORE_COURSE_GRADE_1_S'].fillna('C', inplace=True)\n",
    "df01['CORE_COURSE_NAME_2_S'].fillna('ENGL_1102', inplace=True)\n",
    "df01['CORE_COURSE_GRADE_2_S'].fillna('B', inplace=True)"
   ]
  },
  {
   "cell_type": "code",
   "execution_count": 25,
   "id": "559e8bb1",
   "metadata": {},
   "outputs": [],
   "source": [
    "# Replacing Incomplete with Not Repeating for CORE_COURSE_GRADE_1_F\n",
    "df01['CORE_COURSE_GRADE_1_F'].replace('INCOMPL', 'NOT REP', inplace=True)"
   ]
  },
  {
   "cell_type": "code",
   "execution_count": 26,
   "id": "bd6455f7",
   "metadata": {},
   "outputs": [],
   "source": [
    "# Replacing Incompl with Not Rep for CORE_COURSE_GRADE_2_F AND 1_S\n",
    "df01['CORE_COURSE_GRADE_2_F'].replace('INCOMPL', 'NOT REP', inplace=True)\n",
    "df01['CORE_COURSE_GRADE_1_S'].replace('INCOMPL', 'NOT REP', inplace=True)\n"
   ]
  },
  {
   "cell_type": "code",
   "execution_count": 27,
   "id": "bc0c78f6",
   "metadata": {},
   "outputs": [
    {
     "name": "stderr",
     "output_type": "stream",
     "text": [
      "C:\\Users\\91951\\AppData\\Local\\Temp/ipykernel_4240/1631862308.py:3: SettingWithCopyWarning: \n",
      "A value is trying to be set on a copy of a slice from a DataFrame\n",
      "\n",
      "See the caveats in the documentation: https://pandas.pydata.org/pandas-docs/stable/user_guide/indexing.html#returning-a-view-versus-a-copy\n",
      "  df01['UNMET_NEED'][df01['UNMET_NEED']>0] = 1\n",
      "C:\\Users\\91951\\AppData\\Local\\Temp/ipykernel_4240/1631862308.py:4: SettingWithCopyWarning: \n",
      "A value is trying to be set on a copy of a slice from a DataFrame\n",
      "\n",
      "See the caveats in the documentation: https://pandas.pydata.org/pandas-docs/stable/user_guide/indexing.html#returning-a-view-versus-a-copy\n",
      "  df01['UNMET_NEED'][df01['UNMET_NEED']<0] = 2\n",
      "C:\\Users\\91951\\AppData\\Local\\Temp/ipykernel_4240/1631862308.py:5: SettingWithCopyWarning: \n",
      "A value is trying to be set on a copy of a slice from a DataFrame\n",
      "\n",
      "See the caveats in the documentation: https://pandas.pydata.org/pandas-docs/stable/user_guide/indexing.html#returning-a-view-versus-a-copy\n",
      "  df01['UNMET_NEED'][df01['UNMET_NEED']==0] = 0\n"
     ]
    }
   ],
   "source": [
    "# Encoding the variables\n",
    "# for unmet needs shall replace the positive numbers as 1, negative numbers as 2 and for other numbers as o\n",
    "df01['UNMET_NEED'][df01['UNMET_NEED']>0] = 1\n",
    "df01['UNMET_NEED'][df01['UNMET_NEED']<0] = 2\n",
    "df01['UNMET_NEED'][df01['UNMET_NEED']==0] = 0"
   ]
  },
  {
   "cell_type": "code",
   "execution_count": 28,
   "id": "cf0ceb0c",
   "metadata": {},
   "outputs": [],
   "source": [
    "# Replacing  the School names\n",
    "df01['HIGH_SCHL_NAME'] = df01['HIGH_SCHL_NAME'].str.replace('SCHOOL', '')\n",
    "df01['HIGH_SCHL_NAME'] = df01['HIGH_SCHL_NAME'].astype('int64')"
   ]
  },
  {
   "cell_type": "code",
   "execution_count": 29,
   "id": "00ffac5c",
   "metadata": {},
   "outputs": [],
   "source": [
    "# Replacing the bacground\n",
    "df01['STDNT_BACKGROUND'] = df01['STDNT_BACKGROUND'].str.replace('BGD', '')\n",
    "df01['STDNT_BACKGROUND'] = df01['STDNT_BACKGROUND'].astype('int64')\n",
    "df01['FATHER_HI_EDU_CD'] = df01['FATHER_HI_EDU_CD'].astype('int64')"
   ]
  },
  {
   "cell_type": "code",
   "execution_count": 30,
   "id": "b161ad2b",
   "metadata": {},
   "outputs": [
    {
     "data": {
      "text/plain": [
       "0    2677\n",
       "1     723\n",
       "Name: RETURNED_2ND_YR, dtype: int64"
      ]
     },
     "execution_count": 30,
     "metadata": {},
     "output_type": "execute_result"
    }
   ],
   "source": [
    "# For model building purpose we are rreplacing 1 as attriting and 0 as not attriting\n",
    "df01['RETURNED_2ND_YR'].replace([0, 1], [1, 0], inplace = True)\n",
    "df01.RETURNED_2ND_YR.value_counts()"
   ]
  },
  {
   "cell_type": "code",
   "execution_count": 31,
   "id": "bafff083",
   "metadata": {},
   "outputs": [
    {
     "data": {
      "text/plain": [
       "0    78.735294\n",
       "1    21.264706\n",
       "Name: RETURNED_2ND_YR, dtype: float64"
      ]
     },
     "execution_count": 31,
     "metadata": {},
     "output_type": "execute_result"
    }
   ],
   "source": [
    "df01['RETURNED_2ND_YR'].value_counts()/df.shape[0]*100\n",
    "# Attrition count 723 (21%)"
   ]
  },
  {
   "cell_type": "code",
   "execution_count": 32,
   "id": "3ab2aaf7",
   "metadata": {},
   "outputs": [
    {
     "data": {
      "text/plain": [
       "<AxesSubplot:>"
      ]
     },
     "execution_count": 32,
     "metadata": {},
     "output_type": "execute_result"
    },
    {
     "data": {
      "image/png": "[encoded data removed]",
      "text/plain": [
       "<Figure size 1008x864 with 2 Axes>"
      ]
     },
     "metadata": {
      "needs_background": "light"
     },
     "output_type": "display_data"
    }
   ],
   "source": [
    "categoricals = [feature for feature in df01.columns if df01[feature].dtypes == 'O' and feature != 'RETURNED_2ND_YR']\n",
    "categoricals\n",
    "#Plotting correlation map\n",
    "\n",
    "plt.subplots(figsize=(14,12))\n",
    "sns.heatmap(df.corr().round(2), vmin=-1, vmax=1, annot = True)"
   ]
  },
  {
   "cell_type": "code",
   "execution_count": 33,
   "id": "4f2c8281",
   "metadata": {},
   "outputs": [],
   "source": [
    "# Greater than or equal to 50%\n",
    "# 1) \"COST_ATTEND\" is highly correlated with \"UNMET_NEED\", \"GROSS_FIN_NEED\"\n",
    "# so we will keep 'UNMET_NEED', 'GROSS_FIN_NEED'  and remove \"COST_OF_ATTEND\"\n",
    "# 2) 'SECOND_TERM_ATTEMPT_HRS' is highly correlated with 'SECOND_TERM_EARNED_HRS'\n",
    "# so we will keep only one 'SECOND_TERM_EARNED_HRS'\n",
    "# 3) 'FIRST_TERM_ATTEMPT_HRS' is highly correlated with 'FIRST_TERM_EARNED_HRS'\n",
    "# SO WE WILL KEEP ONLY ONE 'FIRST_TERM_EARNED_HRS'\n",
    "\n",
    "df2 = df01.copy()\n",
    "correlated_features = set()\n",
    "correlation_matrix = df2.drop('RETURNED_2ND_YR', axis=1).corr()\n",
    "\n",
    "for i in range(len(correlation_matrix.columns)):\n",
    "    for j in range(i):\n",
    "        if abs(correlation_matrix.iloc[i, j]) > 0.6:\n",
    "            colname = correlation_matrix.columns[i]\n",
    "            correlated_features.add(colname)\n",
    "correlated_features\n",
    "# 'HIGH_SCHL_NAME' is not required and 'SECOND_TERM_ATTEMPT_HRS', 'FIRST_TERM_ATTEMPT_HRS', 'GROSS_FIN_NEED', 'UNMET_NEED'\n",
    "# dropped because of high correlation\n",
    "df01 = df01.drop(['HIGH_SCHL_NAME', 'SECOND_TERM_ATTEMPT_HRS', 'FIRST_TERM_ATTEMPT_HRS', 'GROSS_FIN_NEED', 'UNMET_NEED'], axis=1)"
   ]
  },
  {
   "cell_type": "code",
   "execution_count": 34,
   "id": "5907c773",
   "metadata": {},
   "outputs": [
    {
     "data": {
      "text/plain": [
       "['STDNT_GENDER',\n",
       " 'IN_STATE_FLAG',\n",
       " 'INTERNATIONAL_STS',\n",
       " 'STDNT_MAJOR',\n",
       " 'STDNT_MINOR',\n",
       " 'CORE_COURSE_NAME_1_F',\n",
       " 'CORE_COURSE_GRADE_1_F',\n",
       " 'CORE_COURSE_NAME_2_F',\n",
       " 'CORE_COURSE_GRADE_2_F',\n",
       " 'CORE_COURSE_NAME_3_F',\n",
       " 'CORE_COURSE_GRADE_3_F',\n",
       " 'CORE_COURSE_NAME_1_S',\n",
       " 'CORE_COURSE_GRADE_1_S',\n",
       " 'CORE_COURSE_NAME_2_S',\n",
       " 'CORE_COURSE_GRADE_2_S',\n",
       " 'HOUSING_STS',\n",
       " 'MOTHER_HI_EDU_DESC',\n",
       " 'DEGREE_GROUP_CD',\n",
       " 'DEGREE_GROUP_DESC']"
      ]
     },
     "execution_count": 34,
     "metadata": {},
     "output_type": "execute_result"
    }
   ],
   "source": [
    "# Selecting the categorical features\n",
    "cats = [feature for feature in df01.columns if df01[feature].dtypes == 'O' and feature != 'RETURNED_2ND_YR']\n",
    "cats"
   ]
  },
  {
   "cell_type": "code",
   "execution_count": 35,
   "id": "1ff1181c",
   "metadata": {},
   "outputs": [],
   "source": [
    "# Selecting the categorical feature which is having more than 25 unique values\n",
    "cat_with_more_unique = []\n",
    "for feature in cats:\n",
    "    if len(df01[feature].unique()) >=25:\n",
    "        cat_with_more_unique.append(feature)"
   ]
  },
  {
   "cell_type": "code",
   "execution_count": 36,
   "id": "b1f0c857",
   "metadata": {},
   "outputs": [
    {
     "data": {
      "text/plain": [
       "['STDNT_MAJOR',\n",
       " 'STDNT_MINOR',\n",
       " 'CORE_COURSE_NAME_1_F',\n",
       " 'CORE_COURSE_NAME_2_F',\n",
       " 'CORE_COURSE_NAME_3_F',\n",
       " 'CORE_COURSE_NAME_1_S',\n",
       " 'CORE_COURSE_NAME_2_S']"
      ]
     },
     "execution_count": 36,
     "metadata": {},
     "output_type": "execute_result"
    }
   ],
   "source": [
    "# prining the categorical varical which is having more than 25 unique values\n",
    "# following independent features are having more than 25 unique values\n",
    "# ['STDNT_MAJOR','STDNT_MINOR','CORE_COURSE_NAME_1_F','CORE_COURSE_NAME_2_F','CORE_COURSE_NAME_3_F','CORE_COURSE_NAME_1_S','CORE_COURSE_NAME_2_S']\n",
    "cat_with_more_unique"
   ]
  },
  {
   "cell_type": "markdown",
   "id": "4a5f825d",
   "metadata": {},
   "source": [
    "### ONE_HOT_ENCODING for features which is having more than 25 unique values"
   ]
  },
  {
   "cell_type": "code",
   "execution_count": 37,
   "id": "d3b0535b",
   "metadata": {},
   "outputs": [],
   "source": [
    "top_10 = [x for x in df01.STDNT_MAJOR.value_counts().head(10).index]\n",
    "for label in top_10:\n",
    "    df01[label] = np.where(df01['STDNT_MAJOR']==label, 1, 0)"
   ]
  },
  {
   "cell_type": "code",
   "execution_count": 38,
   "id": "2b3d3b92",
   "metadata": {},
   "outputs": [],
   "source": [
    "top_10 = [x for x in df01.STDNT_MINOR.value_counts().head(10).index]\n",
    "for label in top_10:\n",
    "    df01[label] = np.where(df01['STDNT_MINOR']==label, 1, 0)"
   ]
  },
  {
   "cell_type": "code",
   "execution_count": 39,
   "id": "e0240650",
   "metadata": {},
   "outputs": [],
   "source": [
    "top_10 = [x for x in df01.CORE_COURSE_NAME_1_F.value_counts().head(10).index]\n",
    "for label in top_10:\n",
    "    df01[label] = np.where(df01['CORE_COURSE_NAME_1_F']==label, 1, 0)"
   ]
  },
  {
   "cell_type": "code",
   "execution_count": 40,
   "id": "086144f7",
   "metadata": {},
   "outputs": [],
   "source": [
    "top_10 = [x for x in df01.CORE_COURSE_NAME_2_F.value_counts().head(10).index]\n",
    "for label in top_10:\n",
    "    df01[label] = np.where(df01['CORE_COURSE_NAME_2_F']==label, 1, 0)"
   ]
  },
  {
   "cell_type": "code",
   "execution_count": 41,
   "id": "25360439",
   "metadata": {},
   "outputs": [],
   "source": [
    "top_10 = [x for x in df01.CORE_COURSE_NAME_3_F.value_counts().head(10).index]\n",
    "for label in top_10:\n",
    "    df01[label] = np.where(df01['CORE_COURSE_NAME_3_F']==label, 1, 0)"
   ]
  },
  {
   "cell_type": "code",
   "execution_count": 42,
   "id": "f4652d70",
   "metadata": {},
   "outputs": [],
   "source": [
    "top_10 = [x for x in df01.CORE_COURSE_NAME_1_S.value_counts().head(10).index]\n",
    "for label in top_10:\n",
    "    df01[label] = np.where(df01['CORE_COURSE_NAME_1_S']==label, 1, 0)"
   ]
  },
  {
   "cell_type": "code",
   "execution_count": 43,
   "id": "609fba1d",
   "metadata": {},
   "outputs": [],
   "source": [
    "top_10 = [x for x in df01.CORE_COURSE_NAME_2_S.value_counts().head(10).index]\n",
    "for label in top_10:\n",
    "    df01[label] = np.where(df01['CORE_COURSE_NAME_2_S']==label, 1, 0)"
   ]
  },
  {
   "cell_type": "code",
   "execution_count": 44,
   "id": "b74296c6",
   "metadata": {},
   "outputs": [],
   "source": [
    "df01.drop(['STDNT_MAJOR',\n",
    " 'STDNT_MINOR',\n",
    " 'CORE_COURSE_NAME_1_F',\n",
    " 'CORE_COURSE_NAME_2_F',\n",
    " 'CORE_COURSE_NAME_3_F',\n",
    " 'CORE_COURSE_NAME_1_S',\n",
    " 'CORE_COURSE_NAME_2_S'], axis=1, inplace=True)"
   ]
  },
  {
   "cell_type": "markdown",
   "id": "fc36514c",
   "metadata": {},
   "source": [
    "### One Hot Encoding"
   ]
  },
  {
   "cell_type": "code",
   "execution_count": 45,
   "id": "67830be7",
   "metadata": {},
   "outputs": [],
   "source": [
    "# SPLITTING X, Y VARIABLES\n",
    "x = df01.drop(['RETURNED_2ND_YR'], axis=1)\n",
    "y = df01['RETURNED_2ND_YR']\n",
    "\n",
    "# ONE_HOT_ENCODING FOR categorical variables in x\n",
    "x = pd.get_dummies(x, drop_first=True)"
   ]
  },
  {
   "cell_type": "code",
   "execution_count": 46,
   "id": "010a0995",
   "metadata": {},
   "outputs": [
    {
     "data": {
      "text/plain": [
       "(3400, 84)"
      ]
     },
     "execution_count": 46,
     "metadata": {},
     "output_type": "execute_result"
    }
   ],
   "source": [
    "x.shape"
   ]
  },
  {
   "cell_type": "code",
   "execution_count": 47,
   "id": "04f80149",
   "metadata": {},
   "outputs": [
    {
     "data": {
      "text/plain": [
       "0    2677\n",
       "1     723\n",
       "Name: RETURNED_2ND_YR, dtype: int64"
      ]
     },
     "execution_count": 47,
     "metadata": {},
     "output_type": "execute_result"
    }
   ],
   "source": [
    "y.value_counts()"
   ]
  },
  {
   "cell_type": "markdown",
   "id": "d5645a14",
   "metadata": {},
   "source": [
    "#### Handling Imbalanced Dataset"
   ]
  },
  {
   "cell_type": "code",
   "execution_count": 48,
   "id": "d36da7ba",
   "metadata": {},
   "outputs": [],
   "source": [
    "# Handling Imbalanced DataSet\n",
    "from imblearn.combine import SMOTETomek\n",
    "smk = SMOTETomek(random_state=42)\n",
    "x_res,y_res=smk.fit_resample(x, y)"
   ]
  },
  {
   "cell_type": "code",
   "execution_count": 49,
   "id": "290eac40",
   "metadata": {},
   "outputs": [],
   "source": [
    "# Importing all the necessary ML Algorithm for Prediction\n",
    "from sklearn.model_selection import train_test_split\n",
    "from sklearn.metrics import f1_score\n",
    "from sklearn.model_selection import cross_val_score\n",
    "from sklearn.model_selection import StratifiedKFold\n",
    "from sklearn.metrics import classification_report\n",
    "from sklearn.metrics import confusion_matrix\n",
    "from sklearn.metrics import accuracy_score\n",
    "from sklearn.linear_model import LogisticRegression\n",
    "from sklearn.ensemble import RandomForestClassifier\n",
    "from sklearn.tree import DecisionTreeClassifier\n",
    "from xgboost import XGBClassifier"
   ]
  },
  {
   "cell_type": "code",
   "execution_count": 50,
   "id": "8e2642e4",
   "metadata": {},
   "outputs": [],
   "source": [
    "# Splitout Validation Datdaset\n",
    "x_train, x_test, y_train, y_test = train_test_split(x_res, y_res, test_size=0.2, random_state=0)"
   ]
  },
  {
   "cell_type": "code",
   "execution_count": 51,
   "id": "a40793e8",
   "metadata": {},
   "outputs": [],
   "source": [
    "# Spot Check Algorithms\n",
    "models = []\n",
    "models.append(('LR', LogisticRegression(solver='liblinear', multi_class='ovr')))\n",
    "models.append(('RF', RandomForestClassifier()))\n",
    "models.append(('Xgboost', XGBClassifier(random_state=7)))\n",
    "models.append(('DT', DecisionTreeClassifier()))"
   ]
  },
  {
   "cell_type": "code",
   "execution_count": null,
   "id": "92a3d871",
   "metadata": {},
   "outputs": [
    {
     "name": "stdout",
     "output_type": "stream",
     "text": [
      "LR: 0.508818 (0.013616)\n",
      "RF: 0.887047 (0.014276)\n",
      "[10:43:36] WARNING: C:/Users/Administrator/workspace/xgboost-win64_release_1.5.0/src/learner.cc:1115: Starting in XGBoost 1.3.0, the default evaluation metric used with the objective 'binary:logistic' was changed from 'error' to 'logloss'. Explicitly set eval_metric if you'd like to restore the old behavior.\n"
     ]
    },
    {
     "name": "stderr",
     "output_type": "stream",
     "text": [
      "C:\\Users\\91951\\AppData\\Roaming\\Python\\Python39\\site-packages\\xgboost\\sklearn.py:1224: UserWarning: The use of label encoder in XGBClassifier is deprecated and will be removed in a future release. To remove this warning, do the following: 1) Pass option use_label_encoder=False when constructing XGBClassifier object; and 2) Encode your labels (y) as integers starting with 0, i.e. 0, 1, 2, ..., [num_class - 1].\n",
      "  warnings.warn(label_encoder_deprecation_msg, UserWarning)\n",
      "C:\\Users\\91951\\AppData\\Roaming\\Python\\Python39\\site-packages\\xgboost\\sklearn.py:1224: UserWarning: The use of label encoder in XGBClassifier is deprecated and will be removed in a future release. To remove this warning, do the following: 1) Pass option use_label_encoder=False when constructing XGBClassifier object; and 2) Encode your labels (y) as integers starting with 0, i.e. 0, 1, 2, ..., [num_class - 1].\n",
      "  warnings.warn(label_encoder_deprecation_msg, UserWarning)\n"
     ]
    },
    {
     "name": "stdout",
     "output_type": "stream",
     "text": [
      "[10:43:38] WARNING: C:/Users/Administrator/workspace/xgboost-win64_release_1.5.0/src/learner.cc:1115: Starting in XGBoost 1.3.0, the default evaluation metric used with the objective 'binary:logistic' was changed from 'error' to 'logloss'. Explicitly set eval_metric if you'd like to restore the old behavior.\n"
     ]
    },
    {
     "name": "stderr",
     "output_type": "stream",
     "text": [
      "C:\\Users\\91951\\AppData\\Roaming\\Python\\Python39\\site-packages\\xgboost\\sklearn.py:1224: UserWarning: The use of label encoder in XGBClassifier is deprecated and will be removed in a future release. To remove this warning, do the following: 1) Pass option use_label_encoder=False when constructing XGBClassifier object; and 2) Encode your labels (y) as integers starting with 0, i.e. 0, 1, 2, ..., [num_class - 1].\n",
      "  warnings.warn(label_encoder_deprecation_msg, UserWarning)\n"
     ]
    },
    {
     "name": "stdout",
     "output_type": "stream",
     "text": [
      "[10:43:40] WARNING: C:/Users/Administrator/workspace/xgboost-win64_release_1.5.0/src/learner.cc:1115: Starting in XGBoost 1.3.0, the default evaluation metric used with the objective 'binary:logistic' was changed from 'error' to 'logloss'. Explicitly set eval_metric if you'd like to restore the old behavior.\n"
     ]
    },
    {
     "name": "stderr",
     "output_type": "stream",
     "text": [
      "C:\\Users\\91951\\AppData\\Roaming\\Python\\Python39\\site-packages\\xgboost\\sklearn.py:1224: UserWarning: The use of label encoder in XGBClassifier is deprecated and will be removed in a future release. To remove this warning, do the following: 1) Pass option use_label_encoder=False when constructing XGBClassifier object; and 2) Encode your labels (y) as integers starting with 0, i.e. 0, 1, 2, ..., [num_class - 1].\n",
      "  warnings.warn(label_encoder_deprecation_msg, UserWarning)\n"
     ]
    },
    {
     "name": "stdout",
     "output_type": "stream",
     "text": [
      "[10:43:42] WARNING: C:/Users/Administrator/workspace/xgboost-win64_release_1.5.0/src/learner.cc:1115: Starting in XGBoost 1.3.0, the default evaluation metric used with the objective 'binary:logistic' was changed from 'error' to 'logloss'. Explicitly set eval_metric if you'd like to restore the old behavior.\n"
     ]
    }
   ],
   "source": [
    "# evaluate each model in turn\n",
    "results = []\n",
    "names = []\n",
    "for name, model in models:\n",
    "    kfold = StratifiedKFold(n_splits=10, random_state=1, shuffle=True)\n",
    "    cv_results = cross_val_score(model, x_train, y_train, cv=kfold, scoring='accuracy')\n",
    "    results.append(cv_results)\n",
    "    names.append(name)\n",
    "    print('%s: %f (%f)' % (name, cv_results.mean(), cv_results.std()))"
   ]
  },
  {
   "cell_type": "code",
   "execution_count": null,
   "id": "bc244f76",
   "metadata": {},
   "outputs": [],
   "source": [
    "# compare Algorithms\n",
    "fig = plt.figure(figsize=(15, 7))\n",
    "plt.boxplot(results, labels=names)\n",
    "plt.title('Algorithm Comparison')\n",
    "plt.show()"
   ]
  },
  {
   "cell_type": "code",
   "execution_count": null,
   "id": "9655eaed",
   "metadata": {},
   "outputs": [],
   "source": [
    "# Training The model using RandomForestClassifier\n",
    "from sklearn.ensemble import RandomForestClassifier\n",
    "clf = RandomForestClassifier(n_estimators=210, oob_score=True, n_jobs=-1, random_state=400)\n",
    "clf.fit(x_train, y_train)"
   ]
  },
  {
   "cell_type": "code",
   "execution_count": null,
   "id": "8193f9a4",
   "metadata": {},
   "outputs": [],
   "source": [
    "print(clf.oob_score_)\n",
    "print(\"Training Accuracy :\",clf.score(x_train, y_train))\n",
    "print(\"Test Accuracy :\",clf.score(x_test, y_test))\n",
    "\n",
    "y_pred = clf.predict(x_test)\n",
    "\n",
    "from sklearn.metrics import confusion_matrix\n",
    "confusion_matrix = confusion_matrix(y_test, y_pred)\n",
    "print(confusion_matrix)"
   ]
  },
  {
   "cell_type": "code",
   "execution_count": null,
   "id": "f398120a",
   "metadata": {},
   "outputs": [],
   "source": [
    "# Classification Report\n",
    "from sklearn.metrics import classification_report\n",
    "print(classification_report(y_test, y_pred))"
   ]
  },
  {
   "cell_type": "code",
   "execution_count": null,
   "id": "a3cea4e0",
   "metadata": {},
   "outputs": [],
   "source": []
  }
 ],
 "metadata": {
  "kernelspec": {
   "display_name": "Python 3 (ipykernel)",
   "language": "python",
   "name": "python3"
  },
  "language_info": {
   "codemirror_mode": {
    "name": "ipython",
    "version": 3
   },
   "file_extension": ".py",
   "mimetype": "text/x-python",
   "name": "python",
   "nbconvert_exporter": "python",
   "pygments_lexer": "ipython3",
   "version": "3.9.6"
  }
 },
 "nbformat": 4,
 "nbformat_minor": 5
}
